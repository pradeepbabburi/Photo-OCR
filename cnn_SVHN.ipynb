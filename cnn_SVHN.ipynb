{
 "cells": [
  {
   "cell_type": "code",
   "execution_count": 1,
   "metadata": {
    "collapsed": false
   },
   "outputs": [],
   "source": [
    "import tensorflow as tf\n",
    "import scipy.io\n",
    "from PIL import Image\n",
    "import numpy as np\n",
    "import matplotlib.pyplot as plt"
   ]
  },
  {
   "cell_type": "code",
   "execution_count": 2,
   "metadata": {
    "collapsed": false
   },
   "outputs": [],
   "source": [
    "mat_train = scipy.io.loadmat('/Users/babburi/Desktop/train/cropped/train_32x32.mat')\n",
    "mat_test = scipy.io.loadmat('/Users/babburi/Desktop/test/cropped/test_32x32.mat')\n",
    "X_train = np.array(mat_train['X'])\n",
    "y_train = np.array(mat_train['y'])\n",
    "X_test = np.array(mat_test['X'])\n",
    "y_test = np.array(mat_test['y'])\n",
    "# replace 10 with 0 in y_train and y_test\n",
    "y_train[y_train==10] = 0\n",
    "y_test[y_test==10] = 0\n",
    "y_train = np.eye(10)[y_train.astype('int')]\n",
    "y_train = np.reshape(y_train, [y_train.shape[0], 10])\n",
    "y_test = np.eye(10)[y_test.astype('int')]\n",
    "y_test = np.reshape(y_test, [y_test.shape[0], 10])\n",
    "del mat_train, mat_test"
   ]
  },
  {
   "cell_type": "code",
   "execution_count": 3,
   "metadata": {
    "collapsed": false
   },
   "outputs": [],
   "source": [
    "batch_size = 256\n",
    "n_classes = 10\n",
    "\n",
    "# tf graph input\n",
    "x = tf.placeholder(tf.float32)\n",
    "y = tf.placeholder(tf.float32, [None, n_classes])\n",
    "\n",
    "# convolution\n",
    "def conv2d(x, W):\n",
    "    return tf.nn.conv2d(x, W, strides=[1,1,1,1], padding='SAME')\n",
    "\n",
    "# pooling\n",
    "def maxpool2d(x):\n",
    "    return tf.nn.max_pool(x, ksize=[1,2,2,1], strides=[1,2,2,1], padding='SAME')\n",
    "\n",
    "# build cnn model\n",
    "def convolutional_neural_network(x):\n",
    "    weights = {\n",
    "        # 5x5 convolution, 1 input image, 32 outputs\n",
    "        'W_conv1': tf.Variable(tf.truncated_normal([5,5,3,32], stddev=0.1)),\n",
    "        \n",
    "        # 5x5 convolution, 32 inputs, 64 outputs\n",
    "        'W_conv2': tf.Variable(tf.truncated_normal([5,5,32,64], stddev=0.1)),\n",
    "        \n",
    "        # fully connected layer, 8x8x64 inputs, 1024 outputs\n",
    "        'W_fc': tf.Variable(tf.truncated_normal([8*8*64,1024], stddev=0.1)),\n",
    "        \n",
    "        # 1024 inputs, 10 outputs (class prediction)\n",
    "        'out': tf.Variable(tf.truncated_normal([1024, n_classes], stddev=0.1))\n",
    "    }\n",
    "    \n",
    "    biases = {\n",
    "        'b_conv1': tf.Variable(tf.constant(0.1, shape=[32])),\n",
    "        'b_conv2': tf.Variable(tf.constant(0.1, shape=[64])),\n",
    "        'b_fc': tf.Variable(tf.constant(0.1, shape=[1024])),\n",
    "        'out': tf.Variable(tf.constant(0.1, shape=[n_classes]))\n",
    "    }\n",
    "    \n",
    "    # reshape input to a 4D tensor\n",
    "    x = tf.reshape(x, shape=[-1,32,32,3])\n",
    "    \n",
    "    # convolution layer 1 followed by pooling\n",
    "    conv1 = tf.nn.relu(conv2d(x, weights['W_conv1']) + biases['b_conv1'])\n",
    "    conv1 = maxpool2d(conv1)\n",
    "    \n",
    "    # convolution layer 2 followed by pooling\n",
    "    conv2 = tf.nn.relu(conv2d(conv1, weights['W_conv2']) + biases['b_conv2'])\n",
    "    conv2 = maxpool2d(conv2)\n",
    "    \n",
    "    # fully connected layer\n",
    "    fc = tf.reshape(conv2, shape=[-1, 8*8*64])\n",
    "    fc = tf.nn.relu(tf.matmul(fc, weights['W_fc']) + biases['b_fc'])\n",
    "    \n",
    "    # output layer\n",
    "    output = tf.matmul(fc, weights['out']) + biases['out']\n",
    "    return output"
   ]
  },
  {
   "cell_type": "code",
   "execution_count": 8,
   "metadata": {
    "collapsed": true
   },
   "outputs": [],
   "source": [
    "def train_cnn(x):\n",
    "    prediction = convolutional_neural_network(x)\n",
    "    cost = tf.reduce_mean(tf.nn.softmax_cross_entropy_with_logits(labels=y, logits=prediction))\n",
    "    optimizer = tf.train.GradientDescentOptimizer(learning_rate=0.01).minimize(cost)\n",
    "    correct = tf.equal(tf.argmax(prediction,1), tf.argmax(y,1))\n",
    "    accuracy = tf.reduce_mean(tf.cast(correct, tf.float32))\n",
    "    \n",
    "    epochs = 10\n",
    "    with tf.Session() as sess:\n",
    "        sess.run(tf.global_variables_initializer())\n",
    "        \n",
    "        for epoch in range(epochs):\n",
    "            epoch_loss = 0\n",
    "            i = 0\n",
    "            while i <= X_train.shape[3]:\n",
    "                start = i\n",
    "                end = i + batch_size\n",
    "                batch_x = X_train[:,:,:,start:end]\n",
    "                batch_y = y_train[start:end,:]\n",
    "                \n",
    "                _, c = sess.run([optimizer, cost], feed_dict = {x: batch_x,\n",
    "                                                                y:batch_y})\n",
    "                epoch_loss += c\n",
    "                i += batch_size\n",
    "            print('Epoch', epoch+1, 'completed out of', epochs, 'loss:', epoch_loss)\n",
    "            randsel = np.random.randint(1, X_train.shape[3], batch_size)\n",
    "            train_accuracy = accuracy.eval(feed_dict={x:X_train[:,:,:,randsel], y:y_train[randsel,:]})\n",
    "            print(\"Training accuracy %g\", train_accuracy)\n",
    "        \n",
    "        print('Test Accuracy:', accuracy.eval({x:X_test, y:y_test}))\n",
    "\n"
   ]
  },
  {
   "cell_type": "code",
   "execution_count": 9,
   "metadata": {
    "collapsed": false
   },
   "outputs": [
    {
     "name": "stdout",
     "output_type": "stream",
     "text": [
      "Epoch 1 completed out of 10 loss: 230255886566.0\n",
      "Training accuracy %g 0.15625\n",
      "Epoch 2 completed out of 10 loss: 642.743298054\n",
      "Training accuracy %g 0.136719\n",
      "Epoch 3 completed out of 10 loss: 641.98743701\n",
      "Training accuracy %g 0.171875\n",
      "Epoch 4 completed out of 10 loss: 641.922597647\n",
      "Training accuracy %g 0.199219\n",
      "Epoch 5 completed out of 10 loss: 641.915437222\n",
      "Training accuracy %g 0.179688\n",
      "Epoch 6 completed out of 10 loss: 641.914470673\n",
      "Training accuracy %g 0.183594\n",
      "Epoch 7 completed out of 10 loss: 641.914350271\n",
      "Training accuracy %g 0.183594\n",
      "Epoch 8 completed out of 10 loss: 641.91437149\n",
      "Training accuracy %g 0.214844\n",
      "Epoch 9 completed out of 10 loss: 641.91438961\n",
      "Training accuracy %g 0.238281\n",
      "Epoch 10 completed out of 10 loss: 641.914414167\n",
      "Training accuracy %g 0.207031\n",
      "Test Accuracy: 0.195874\n"
     ]
    }
   ],
   "source": [
    "train_cnn(x)"
   ]
  },
  {
   "cell_type": "code",
   "execution_count": null,
   "metadata": {
    "collapsed": true
   },
   "outputs": [],
   "source": []
  }
 ],
 "metadata": {
  "anaconda-cloud": {},
  "kernelspec": {
   "display_name": "Python [Root]",
   "language": "python",
   "name": "Python [Root]"
  },
  "language_info": {
   "codemirror_mode": {
    "name": "ipython",
    "version": 3
   },
   "file_extension": ".py",
   "mimetype": "text/x-python",
   "name": "python",
   "nbconvert_exporter": "python",
   "pygments_lexer": "ipython3",
   "version": "3.5.2"
  }
 },
 "nbformat": 4,
 "nbformat_minor": 0
}
